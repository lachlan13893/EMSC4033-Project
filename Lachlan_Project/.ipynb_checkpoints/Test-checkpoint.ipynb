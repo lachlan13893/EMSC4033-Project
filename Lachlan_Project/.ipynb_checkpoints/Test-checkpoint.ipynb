{
 "cells": [
  {
   "cell_type": "code",
   "execution_count": 107,
   "id": "f741ec5e-8a63-4811-adbf-59085d84f15f",
   "metadata": {},
   "outputs": [],
   "source": [
    "from Code.dependencies import *\n",
    "from Code.my_functions import *\n",
    "from test_functions import *"
   ]
  },
  {
   "cell_type": "code",
   "execution_count": 108,
   "id": "2f6d0457-4b13-4b05-a27f-09cd73937b33",
   "metadata": {},
   "outputs": [
    {
     "name": "stdout",
     "output_type": "stream",
     "text": [
      "\u001b[1m============================= test session starts ==============================\u001b[0m\n",
      "platform linux -- Python 3.9.7, pytest-7.1.2, pluggy-1.0.0\n",
      "rootdir: /home/jupyter-u6381281/Lachlan_Project\n",
      "plugins: anyio-3.5.0\n",
      "collected 3 items                                                              \u001b[0m\u001b[1m\n",
      "\n",
      "test_functions.py \u001b[32m.\u001b[0m\u001b[32m.\u001b[0m\u001b[32m.\u001b[0m\u001b[32m                                                    [100%]\u001b[0m\n",
      "\n",
      "\u001b[32m============================== \u001b[32m\u001b[1m3 passed\u001b[0m\u001b[32m in 24.11s\u001b[0m\u001b[32m ==============================\u001b[0m\n"
     ]
    }
   ],
   "source": [
    "! pytest"
   ]
  },
  {
   "cell_type": "code",
   "execution_count": null,
   "id": "4f45391f-0fb6-41e3-80e1-ba5ae902d49a",
   "metadata": {},
   "outputs": [],
   "source": []
  }
 ],
 "metadata": {
  "kernelspec": {
   "display_name": "Python 3 (ipykernel)",
   "language": "python",
   "name": "python3"
  },
  "language_info": {
   "codemirror_mode": {
    "name": "ipython",
    "version": 3
   },
   "file_extension": ".py",
   "mimetype": "text/x-python",
   "name": "python",
   "nbconvert_exporter": "python",
   "pygments_lexer": "ipython3",
   "version": "3.9.7"
  }
 },
 "nbformat": 4,
 "nbformat_minor": 5
}
